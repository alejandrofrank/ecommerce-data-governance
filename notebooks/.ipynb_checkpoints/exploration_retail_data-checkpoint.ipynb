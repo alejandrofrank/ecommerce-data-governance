{
 "cells": [
  {
   "cell_type": "code",
   "execution_count": 42,
   "metadata": {
    "jupyter": {
     "source_hidden": true
    }
   },
   "outputs": [],
   "source": [
    "import pandas as pd\n",
    "import numpy as np\n",
    "import time\n",
    "from datetime import datetime\n",
    "\n",
    "from random import seed\n",
    "from random import randint\n",
    "from sklearn.cluster import KMeans\n",
    "\n",
    "import seaborn as sns\n",
    "import matplotlib.pyplot as plt"
   ]
  },
  {
   "cell_type": "code",
   "execution_count": 48,
   "metadata": {},
   "outputs": [],
   "source": [
    "df = pd.read_csv('../retail_data/data.csv', encoding = \"ISO-8859-1\")\n",
    "df['InvoiceDate'] = pd.to_datetime(df['InvoiceDate'])\n",
    "df['monetary_value'] = df['Quantity'] * df['UnitPrice']\n",
    "\n",
    "df.rename(columns = {'Quantity':'frequency'}, inplace = True)"
   ]
  },
  {
   "cell_type": "markdown",
   "metadata": {},
   "source": [
    "Just by looking at this dataframe I'm thinking of different tables. \n",
    "- Product table: StockCode, Description, productId PK, UnitPrice\n",
    "- Invoice table: InvoiceNo, InvoiceDate, monetary_value \n",
    "- Orders table: InvoiceNo PK, productId, frequency, CustomerID, CountryID\n",
    "- time table: InvoiceDate, minutes, hours, day, week, month, quarter, year, dayofweek.\n",
    "- Location: Country, CountryID PK\n",
    "- Customers: CustomerID PK , CountryID\n"
   ]
  },
  {
   "cell_type": "markdown",
   "metadata": {},
   "source": [
    "I'll do a little deep dive on the customers to know how many things we can extract from them just as if we were a real company"
   ]
  },
  {
   "cell_type": "markdown",
   "metadata": {},
   "source": [
    "### Exploring customers with RFM"
   ]
  },
  {
   "cell_type": "code",
   "execution_count": 49,
   "metadata": {},
   "outputs": [],
   "source": [
    "customer_panel = df.groupby('CustomerID').agg({'InvoiceDate': max,\n",
    "                                               'monetary_value': sum,\n",
    "                                               'frequency': sum}).reset_index()\n",
    "\n",
    "customer_panel['recency'] = ((customer_panel['InvoiceDate'].max() - customer_panel['InvoiceDate'])\n",
    "                             / np.timedelta64(1, 'D')).round(0)\n",
    "\n",
    "customer_panel.drop(columns = ['InvoiceDate'], inplace = True)"
   ]
  },
  {
   "cell_type": "code",
   "execution_count": 50,
   "metadata": {},
   "outputs": [],
   "source": [
    "def order_cluster(cluster_field_name, target_field_name, df, ascending):\n",
    "    new_cluster_field_name = 'new_' + cluster_field_name\n",
    "    df_new = df.groupby(cluster_field_name)[target_field_name].mean().reset_index()\n",
    "    df_new = df_new.sort_values(by=target_field_name,ascending=ascending).reset_index(drop=True)\n",
    "    df_new['index'] = df_new.index\n",
    "    df_final = pd.merge(df,df_new[[cluster_field_name,'index']], on=cluster_field_name)\n",
    "    df_final = df_final.drop([cluster_field_name],axis=1)\n",
    "    df_final = df_final.rename(columns={\"index\":cluster_field_name})\n",
    "    return df_final"
   ]
  },
  {
   "cell_type": "code",
   "execution_count": 51,
   "metadata": {},
   "outputs": [],
   "source": [
    "kmeans = KMeans(n_clusters=4)\n",
    "kmeans.fit(customer_panel[['recency']])\n",
    "customer_panel['RecencyCluster'] = kmeans.predict(customer_panel[['recency']])"
   ]
  },
  {
   "cell_type": "code",
   "execution_count": 52,
   "metadata": {},
   "outputs": [],
   "source": [
    "customer_panel = order_cluster('RecencyCluster', 'recency', customer_panel, False)"
   ]
  },
  {
   "cell_type": "code",
   "execution_count": 53,
   "metadata": {},
   "outputs": [
    {
     "data": {
      "text/plain": [
       "RecencyCluster\n",
       "0    309.381423\n",
       "1    190.251603\n",
       "2     79.707834\n",
       "3     17.916551\n",
       "Name: recency, dtype: float64"
      ]
     },
     "execution_count": 53,
     "metadata": {},
     "output_type": "execute_result"
    }
   ],
   "source": [
    "customer_panel.groupby('RecencyCluster')['recency'].mean()"
   ]
  },
  {
   "cell_type": "code",
   "execution_count": 54,
   "metadata": {},
   "outputs": [],
   "source": [
    "kmeans = KMeans(n_clusters=4)\n",
    "kmeans.fit(customer_panel[['frequency']])\n",
    "customer_panel['FrequencyCluster'] = kmeans.predict(customer_panel[['frequency']])"
   ]
  },
  {
   "cell_type": "code",
   "execution_count": 55,
   "metadata": {},
   "outputs": [],
   "source": [
    "customer_panel = order_cluster('FrequencyCluster', 'frequency', customer_panel, True)"
   ]
  },
  {
   "cell_type": "code",
   "execution_count": 58,
   "metadata": {},
   "outputs": [
    {
     "data": {
      "text/plain": [
       "FrequencyCluster\n",
       "0       817.166513\n",
       "1     22696.576923\n",
       "2     64091.555556\n",
       "3    196719.000000\n",
       "Name: frequency, dtype: float64"
      ]
     },
     "execution_count": 58,
     "metadata": {},
     "output_type": "execute_result"
    }
   ],
   "source": [
    "customer_panel.groupby('FrequencyCluster')['frequency'].mean()"
   ]
  },
  {
   "cell_type": "code",
   "execution_count": 59,
   "metadata": {},
   "outputs": [],
   "source": [
    "kmeans = KMeans(n_clusters=4)\n",
    "kmeans.fit(customer_panel[['monetary_value']])\n",
    "customer_panel['MonetaryCluster'] = kmeans.predict(customer_panel[['monetary_value']])"
   ]
  },
  {
   "cell_type": "code",
   "execution_count": 60,
   "metadata": {},
   "outputs": [],
   "source": [
    "customer_panel = order_cluster('MonetaryCluster', 'monetary_value', customer_panel, True)"
   ]
  },
  {
   "cell_type": "code",
   "execution_count": 61,
   "metadata": {},
   "outputs": [
    {
     "data": {
      "text/plain": [
       "MonetaryCluster\n",
       "0      1150.834871\n",
       "1     14989.430833\n",
       "2     71423.516000\n",
       "3    241136.560000\n",
       "Name: monetary_value, dtype: float64"
      ]
     },
     "execution_count": 61,
     "metadata": {},
     "output_type": "execute_result"
    }
   ],
   "source": [
    "customer_panel.groupby('MonetaryCluster')['monetary_value'].mean()"
   ]
  },
  {
   "cell_type": "code",
   "execution_count": 65,
   "metadata": {},
   "outputs": [],
   "source": [
    "customer_panel['RFMScore'] = customer_panel['RecencyCluster'] + customer_panel['FrequencyCluster'] + customer_panel['MonetaryCluster']"
   ]
  },
  {
   "cell_type": "code",
   "execution_count": 77,
   "metadata": {},
   "outputs": [
    {
     "data": {
      "text/html": [
       "<div>\n",
       "<style scoped>\n",
       "    .dataframe tbody tr th:only-of-type {\n",
       "        vertical-align: middle;\n",
       "    }\n",
       "\n",
       "    .dataframe tbody tr th {\n",
       "        vertical-align: top;\n",
       "    }\n",
       "\n",
       "    .dataframe thead th {\n",
       "        text-align: right;\n",
       "    }\n",
       "</style>\n",
       "<table border=\"1\" class=\"dataframe\">\n",
       "  <thead>\n",
       "    <tr style=\"text-align: right;\">\n",
       "      <th></th>\n",
       "      <th>recency</th>\n",
       "      <th>frequency</th>\n",
       "      <th>monetary_value</th>\n",
       "      <th>CustomerID</th>\n",
       "    </tr>\n",
       "    <tr>\n",
       "      <th>RFMScore</th>\n",
       "      <th></th>\n",
       "      <th></th>\n",
       "      <th></th>\n",
       "      <th></th>\n",
       "    </tr>\n",
       "  </thead>\n",
       "  <tbody>\n",
       "    <tr>\n",
       "      <th>0</th>\n",
       "      <td>309.381423</td>\n",
       "      <td>192.144269</td>\n",
       "      <td>359.771245</td>\n",
       "      <td>506</td>\n",
       "    </tr>\n",
       "    <tr>\n",
       "      <th>1</th>\n",
       "      <td>190.180064</td>\n",
       "      <td>323.369775</td>\n",
       "      <td>539.891063</td>\n",
       "      <td>622</td>\n",
       "    </tr>\n",
       "    <tr>\n",
       "      <th>2</th>\n",
       "      <td>79.946396</td>\n",
       "      <td>606.779113</td>\n",
       "      <td>967.916499</td>\n",
       "      <td>1082</td>\n",
       "    </tr>\n",
       "    <tr>\n",
       "      <th>3</th>\n",
       "      <td>18.663400</td>\n",
       "      <td>1006.726605</td>\n",
       "      <td>1663.241843</td>\n",
       "      <td>2041</td>\n",
       "    </tr>\n",
       "    <tr>\n",
       "      <th>4</th>\n",
       "      <td>8.494253</td>\n",
       "      <td>6476.195402</td>\n",
       "      <td>12437.214368</td>\n",
       "      <td>87</td>\n",
       "    </tr>\n",
       "    <tr>\n",
       "      <th>5</th>\n",
       "      <td>6.312500</td>\n",
       "      <td>21680.437500</td>\n",
       "      <td>28965.437500</td>\n",
       "      <td>16</td>\n",
       "    </tr>\n",
       "    <tr>\n",
       "      <th>6</th>\n",
       "      <td>8.125000</td>\n",
       "      <td>26675.500000</td>\n",
       "      <td>54267.191250</td>\n",
       "      <td>8</td>\n",
       "    </tr>\n",
       "    <tr>\n",
       "      <th>7</th>\n",
       "      <td>6.571429</td>\n",
       "      <td>63381.857143</td>\n",
       "      <td>91030.744286</td>\n",
       "      <td>7</td>\n",
       "    </tr>\n",
       "    <tr>\n",
       "      <th>8</th>\n",
       "      <td>4.000000</td>\n",
       "      <td>66575.500000</td>\n",
       "      <td>221960.330000</td>\n",
       "      <td>2</td>\n",
       "    </tr>\n",
       "    <tr>\n",
       "      <th>9</th>\n",
       "      <td>1.000000</td>\n",
       "      <td>196719.000000</td>\n",
       "      <td>279489.020000</td>\n",
       "      <td>1</td>\n",
       "    </tr>\n",
       "  </tbody>\n",
       "</table>\n",
       "</div>"
      ],
      "text/plain": [
       "             recency      frequency  monetary_value  CustomerID\n",
       "RFMScore                                                       \n",
       "0         309.381423     192.144269      359.771245         506\n",
       "1         190.180064     323.369775      539.891063         622\n",
       "2          79.946396     606.779113      967.916499        1082\n",
       "3          18.663400    1006.726605     1663.241843        2041\n",
       "4           8.494253    6476.195402    12437.214368          87\n",
       "5           6.312500   21680.437500    28965.437500          16\n",
       "6           8.125000   26675.500000    54267.191250           8\n",
       "7           6.571429   63381.857143    91030.744286           7\n",
       "8           4.000000   66575.500000   221960.330000           2\n",
       "9           1.000000  196719.000000   279489.020000           1"
      ]
     },
     "execution_count": 77,
     "metadata": {},
     "output_type": "execute_result"
    }
   ],
   "source": [
    "customer_panel.groupby('RFMScore').agg({'recency':np.mean,\n",
    "                                        'frequency':np.mean,\n",
    "                                        'monetary_value':np.mean,\n",
    "                                        'CustomerID':'count'})"
   ]
  },
  {
   "cell_type": "code",
   "execution_count": null,
   "metadata": {},
   "outputs": [],
   "source": []
  }
 ],
 "metadata": {
  "kernelspec": {
   "display_name": "Python 3",
   "language": "python",
   "name": "python3"
  },
  "language_info": {
   "codemirror_mode": {
    "name": "ipython",
    "version": 3
   },
   "file_extension": ".py",
   "mimetype": "text/x-python",
   "name": "python",
   "nbconvert_exporter": "python",
   "pygments_lexer": "ipython3",
   "version": "3.7.7"
  }
 },
 "nbformat": 4,
 "nbformat_minor": 4
}
